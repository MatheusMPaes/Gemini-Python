{
  "nbformat": 4,
  "nbformat_minor": 0,
  "metadata": {
    "colab": {
      "provenance": [],
      "authorship_tag": "ABX9TyMFPHeYtV0SuBCVAaS8CfMM"
    },
    "kernelspec": {
      "name": "python3",
      "display_name": "Python 3"
    },
    "language_info": {
      "name": "python"
    }
  },
  "cells": [
    {
      "cell_type": "markdown",
      "source": [
        "# 1. Google Gemini API com Python (Google Colab)\n",
        "\n",
        "Este projeto demonstra como integrar a **API do Google GenAI (Gemini)** com Python diretamente no Google Colab, utilizando o modelo `gemini-2.0-flash`. O usuário pode fazer perguntas e receber respostas geradas por inteligência artificial.\n",
        "\n",
        "---\n",
        "\n",
        "## 2. Tecnologias utilizadas\n",
        "\n",
        "- Python 3 (Google Colab)\n",
        "- Google AI Studio (API Key)\n",
        "\n",
        "---\n",
        "\n",
        "## 3. Instalação e configuração\n",
        "\n",
        "### - Obtenha sua API Key\n",
        "Acesse: [https://aistudio.google.com/apikey](https://aistudio.google.com/apikey)\n",
        "\n",
        "Copie a sua chave de API e armazene como uma variável segura no Colab."
      ],
      "metadata": {
        "id": "nQBw1uYhqyhg"
      }
    },
    {
      "cell_type": "markdown",
      "source": [
        "* Instale a biblioteca do Google GenAI.\n",
        "\n",
        "\n",
        "\n",
        "\n"
      ],
      "metadata": {
        "id": "Tejq5RLFs4Y1"
      }
    },
    {
      "cell_type": "code",
      "execution_count": null,
      "metadata": {
        "colab": {
          "base_uri": "https://localhost:8080/"
        },
        "collapsed": true,
        "id": "G-s2oA5SwR-K",
        "outputId": "09dc0813-7bd7-4f58-e1cf-152e784b5e91"
      },
      "outputs": [
        {
          "output_type": "stream",
          "name": "stdout",
          "text": [
            "Requirement already satisfied: google-genai in /usr/local/lib/python3.11/dist-packages (1.24.0)\n",
            "Requirement already satisfied: anyio<5.0.0,>=4.8.0 in /usr/local/lib/python3.11/dist-packages (from google-genai) (4.9.0)\n",
            "Requirement already satisfied: google-auth<3.0.0,>=2.14.1 in /usr/local/lib/python3.11/dist-packages (from google-genai) (2.38.0)\n",
            "Requirement already satisfied: httpx<1.0.0,>=0.28.1 in /usr/local/lib/python3.11/dist-packages (from google-genai) (0.28.1)\n",
            "Requirement already satisfied: pydantic<3.0.0,>=2.0.0 in /usr/local/lib/python3.11/dist-packages (from google-genai) (2.11.7)\n",
            "Requirement already satisfied: requests<3.0.0,>=2.28.1 in /usr/local/lib/python3.11/dist-packages (from google-genai) (2.32.3)\n",
            "Requirement already satisfied: tenacity<9.0.0,>=8.2.3 in /usr/local/lib/python3.11/dist-packages (from google-genai) (8.5.0)\n",
            "Requirement already satisfied: websockets<15.1.0,>=13.0.0 in /usr/local/lib/python3.11/dist-packages (from google-genai) (15.0.1)\n",
            "Requirement already satisfied: typing-extensions<5.0.0,>=4.11.0 in /usr/local/lib/python3.11/dist-packages (from google-genai) (4.14.1)\n",
            "Requirement already satisfied: idna>=2.8 in /usr/local/lib/python3.11/dist-packages (from anyio<5.0.0,>=4.8.0->google-genai) (3.10)\n",
            "Requirement already satisfied: sniffio>=1.1 in /usr/local/lib/python3.11/dist-packages (from anyio<5.0.0,>=4.8.0->google-genai) (1.3.1)\n",
            "Requirement already satisfied: cachetools<6.0,>=2.0.0 in /usr/local/lib/python3.11/dist-packages (from google-auth<3.0.0,>=2.14.1->google-genai) (5.5.2)\n",
            "Requirement already satisfied: pyasn1-modules>=0.2.1 in /usr/local/lib/python3.11/dist-packages (from google-auth<3.0.0,>=2.14.1->google-genai) (0.4.2)\n",
            "Requirement already satisfied: rsa<5,>=3.1.4 in /usr/local/lib/python3.11/dist-packages (from google-auth<3.0.0,>=2.14.1->google-genai) (4.9.1)\n",
            "Requirement already satisfied: certifi in /usr/local/lib/python3.11/dist-packages (from httpx<1.0.0,>=0.28.1->google-genai) (2025.6.15)\n",
            "Requirement already satisfied: httpcore==1.* in /usr/local/lib/python3.11/dist-packages (from httpx<1.0.0,>=0.28.1->google-genai) (1.0.9)\n",
            "Requirement already satisfied: h11>=0.16 in /usr/local/lib/python3.11/dist-packages (from httpcore==1.*->httpx<1.0.0,>=0.28.1->google-genai) (0.16.0)\n",
            "Requirement already satisfied: annotated-types>=0.6.0 in /usr/local/lib/python3.11/dist-packages (from pydantic<3.0.0,>=2.0.0->google-genai) (0.7.0)\n",
            "Requirement already satisfied: pydantic-core==2.33.2 in /usr/local/lib/python3.11/dist-packages (from pydantic<3.0.0,>=2.0.0->google-genai) (2.33.2)\n",
            "Requirement already satisfied: typing-inspection>=0.4.0 in /usr/local/lib/python3.11/dist-packages (from pydantic<3.0.0,>=2.0.0->google-genai) (0.4.1)\n",
            "Requirement already satisfied: charset-normalizer<4,>=2 in /usr/local/lib/python3.11/dist-packages (from requests<3.0.0,>=2.28.1->google-genai) (3.4.2)\n",
            "Requirement already satisfied: urllib3<3,>=1.21.1 in /usr/local/lib/python3.11/dist-packages (from requests<3.0.0,>=2.28.1->google-genai) (2.4.0)\n",
            "Requirement already satisfied: pyasn1<0.7.0,>=0.6.1 in /usr/local/lib/python3.11/dist-packages (from pyasn1-modules>=0.2.1->google-auth<3.0.0,>=2.14.1->google-genai) (0.6.1)\n"
          ]
        }
      ],
      "source": [
        "!pip install google-genai"
      ]
    },
    {
      "cell_type": "markdown",
      "source": [
        "*   Salvar o código dentro da variável de ambiente."
      ],
      "metadata": {
        "id": "FxVL1WnetJi3"
      }
    },
    {
      "cell_type": "code",
      "source": [
        "import os\n",
        "\n",
        "from google.colab import userdata\n",
        "os.environ['GOOGLE_API_KEY'] = userdata.get('GOOGLE_API_KEY')"
      ],
      "metadata": {
        "id": "nqTrv1CePE9G"
      },
      "execution_count": null,
      "outputs": []
    },
    {
      "cell_type": "markdown",
      "source": [
        "*   Importando a biblioteca Google GenAI e criando um cliente para interagir com os modelos de IA generativa do Google."
      ],
      "metadata": {
        "id": "0VzlI-_ytJ4K"
      }
    },
    {
      "cell_type": "code",
      "source": [
        "from google import genai\n",
        "\n",
        "client = genai.Client()"
      ],
      "metadata": {
        "id": "4W3C1Y-zPXl4"
      },
      "execution_count": null,
      "outputs": []
    },
    {
      "cell_type": "markdown",
      "source": [
        "* Listar e imprimir no console os nomes de todos os modelos de IA disponíveis na conta vinculada ao cliente da API do Google GenAI."
      ],
      "metadata": {
        "id": "KsVHgVDGtKf8"
      }
    },
    {
      "cell_type": "code",
      "source": [
        "for model in client.models.list():\n",
        "  print(model.name)"
      ],
      "metadata": {
        "colab": {
          "base_uri": "https://localhost:8080/"
        },
        "id": "_81EutdRNchD",
        "outputId": "072a1b98-df71-4810-92dc-6d0ea594269a"
      },
      "execution_count": null,
      "outputs": [
        {
          "output_type": "stream",
          "name": "stdout",
          "text": [
            "models/embedding-gecko-001\n",
            "models/gemini-1.0-pro-vision-latest\n",
            "models/gemini-pro-vision\n",
            "models/gemini-1.5-pro-latest\n",
            "models/gemini-1.5-pro-002\n",
            "models/gemini-1.5-pro\n",
            "models/gemini-1.5-flash-latest\n",
            "models/gemini-1.5-flash\n",
            "models/gemini-1.5-flash-002\n",
            "models/gemini-1.5-flash-8b\n",
            "models/gemini-1.5-flash-8b-001\n",
            "models/gemini-1.5-flash-8b-latest\n",
            "models/gemini-2.5-pro-preview-03-25\n",
            "models/gemini-2.5-flash-preview-04-17\n",
            "models/gemini-2.5-flash-preview-05-20\n",
            "models/gemini-2.5-flash\n",
            "models/gemini-2.5-flash-preview-04-17-thinking\n",
            "models/gemini-2.5-flash-lite-preview-06-17\n",
            "models/gemini-2.5-pro-preview-05-06\n",
            "models/gemini-2.5-pro-preview-06-05\n",
            "models/gemini-2.5-pro\n",
            "models/gemini-2.0-flash-exp\n",
            "models/gemini-2.0-flash\n",
            "models/gemini-2.0-flash-001\n",
            "models/gemini-2.0-flash-exp-image-generation\n",
            "models/gemini-2.0-flash-lite-001\n",
            "models/gemini-2.0-flash-lite\n",
            "models/gemini-2.0-flash-preview-image-generation\n",
            "models/gemini-2.0-flash-lite-preview-02-05\n",
            "models/gemini-2.0-flash-lite-preview\n",
            "models/gemini-2.0-pro-exp\n",
            "models/gemini-2.0-pro-exp-02-05\n",
            "models/gemini-exp-1206\n",
            "models/gemini-2.0-flash-thinking-exp-01-21\n",
            "models/gemini-2.0-flash-thinking-exp\n",
            "models/gemini-2.0-flash-thinking-exp-1219\n",
            "models/gemini-2.5-flash-preview-tts\n",
            "models/gemini-2.5-pro-preview-tts\n",
            "models/learnlm-2.0-flash-experimental\n",
            "models/gemma-3-1b-it\n",
            "models/gemma-3-4b-it\n",
            "models/gemma-3-12b-it\n",
            "models/gemma-3-27b-it\n",
            "models/gemma-3n-e4b-it\n",
            "models/gemma-3n-e2b-it\n",
            "models/embedding-001\n",
            "models/text-embedding-004\n",
            "models/gemini-embedding-exp-03-07\n",
            "models/gemini-embedding-exp\n",
            "models/aqa\n",
            "models/imagen-3.0-generate-002\n",
            "models/imagen-4.0-generate-preview-06-06\n",
            "models/imagen-4.0-ultra-generate-preview-06-06\n",
            "models/veo-2.0-generate-001\n",
            "models/gemini-2.5-flash-preview-native-audio-dialog\n",
            "models/gemini-2.5-flash-exp-native-audio-thinking-dialog\n",
            "models/gemini-2.0-flash-live-001\n",
            "models/gemini-live-2.5-flash-preview\n"
          ]
        }
      ]
    },
    {
      "cell_type": "markdown",
      "source": [
        "* Definir qual modelo da Google GenAI vai ser usado e inserir a perguntar."
      ],
      "metadata": {
        "id": "J5hlMVQ8tLMQ"
      }
    },
    {
      "cell_type": "code",
      "source": [
        "modelo = \"gemini-2.0-flash\"\n",
        "\n",
        "contents = input(\"Faça uma pergunta: \")\n",
        "resposta = client.models.generate_content(model = modelo, contents = contents )\n",
        "print(resposta.text)"
      ],
      "metadata": {
        "colab": {
          "base_uri": "https://localhost:8080/"
        },
        "id": "nqBMhBiKbZgg",
        "outputId": "cf02faf2-1b37-4906-f659-443c2005e907"
      },
      "execution_count": null,
      "outputs": [
        {
          "output_type": "stream",
          "name": "stdout",
          "text": [
            "Faça uma pergunta: O que é o Google Gemini?\n",
            "O Google Gemini é a família de modelos de Inteligência Artificial (IA) multimodal do Google AI, projetada para ser **altamente flexível e eficiente**, com capacidade de rodar desde dispositivos móveis até data centers. Em termos mais simples, é uma IA avançada capaz de entender e gerar texto, imagens, áudio e vídeo, tudo junto.\n",
            "\n",
            "Aqui estão alguns pontos-chave sobre o Google Gemini:\n",
            "\n",
            "*   **Multimodalidade Nativa:** Ao contrário de outros modelos de IA que precisam combinar diferentes sistemas para lidar com diferentes tipos de informação, o Gemini foi treinado desde o início para integrar texto, imagens, áudio e vídeo. Isso significa que ele pode entender e raciocinar sobre todos esses tipos de informação de forma mais natural e eficiente.\n",
            "*   **Diferentes Tamanhos e Capacidades:** O Gemini vem em três tamanhos:\n",
            "    *   **Gemini Ultra:** O modelo mais poderoso, projetado para tarefas altamente complexas.\n",
            "    *   **Gemini Pro:** Um modelo balanceado entre desempenho e eficiência, adequado para uma ampla variedade de tarefas.\n",
            "    *   **Gemini Nano:** O modelo mais leve, projetado para rodar diretamente em dispositivos móveis.\n",
            "*   **Integração com Produtos Google:** O Gemini está sendo integrado em vários produtos e serviços do Google, como:\n",
            "    *   **Bard:** O chatbot de IA do Google (agora chamado de Gemini).\n",
            "    *   **Pixel 8 Pro:** Para recursos como \"Resumo\" no aplicativo Gravador.\n",
            "    *   **Outros produtos Google:** A longo prazo, espera-se que o Gemini seja integrado em muitos outros produtos do Google, como Busca, Ads, Chrome e muito mais.\n",
            "*   **Raciocínio Avançado:** O Google afirma que o Gemini é capaz de raciocínio avançado, superando outros modelos em vários benchmarks de IA. Isso significa que ele pode resolver problemas complexos, entender nuances e gerar respostas mais criativas e informativas.\n",
            "*   **Desenvolvimento Responsável:** O Google está comprometido com o desenvolvimento responsável do Gemini, focando em segurança, ética e inclusão.\n",
            "\n",
            "**Em resumo:** O Google Gemini é uma nova geração de IA multimodal que promete revolucionar a forma como interagimos com a tecnologia. Sua capacidade de entender e gerar diferentes tipos de informação, combinada com sua flexibilidade e integração com os produtos Google, o torna um player importante no futuro da IA.\n",
            "\n"
          ]
        }
      ]
    }
  ]
}